{
  "cells": [
    {
      "cell_type": "code",
      "execution_count": null,
      "metadata": {
        "id": "wnAWyNIvA2_m"
      },
      "outputs": [],
      "source": [
        "import numpy as np\n",
        "import pandas as pd\n",
        "import matplotlib.pyplot as plt\n",
        "import seaborn as sns\n",
        "import warnings\n",
        "warnings.filterwarnings(\"ignore\")\n",
        "\n",
        "from sklearn.model_selection import train_test_split\n",
        "from sklearn.preprocessing import StandardScaler,LabelEncoder\n",
        "from sklearn.linear_model import LogisticRegression\n",
        "from sklearn.ensemble import RandomForestClassifier\n",
        "from sklearn.svm import SVC\n",
        "from sklearn.metrics import accuracy_score,confusion_matrix,classification_report\n",
        "import joblib"
      ]
    },
    {
      "cell_type": "code",
      "execution_count": null,
      "metadata": {
        "colab": {
          "base_uri": "https://localhost:8080/"
        },
        "id": "wYJ7PDtSDoP5",
        "outputId": "08d0f53e-1e0c-4198-bfb0-bf95a905a853"
      },
      "outputs": [
        {
          "name": "stdout",
          "output_type": "stream",
          "text": [
            "Data Loaded (891, 15)\n",
            "   survived  pclass     sex   age  sibsp  parch     fare embarked  class  \\\n",
            "0         0       3    male  22.0      1      0   7.2500        S  Third   \n",
            "1         1       1  female  38.0      1      0  71.2833        C  First   \n",
            "2         1       3  female  26.0      0      0   7.9250        S  Third   \n",
            "3         1       1  female  35.0      1      0  53.1000        S  First   \n",
            "4         0       3    male  35.0      0      0   8.0500        S  Third   \n",
            "\n",
            "     who  adult_male deck  embark_town alive  alone  \n",
            "0    man        True  NaN  Southampton    no  False  \n",
            "1  woman       False    C    Cherbourg   yes  False  \n",
            "2  woman       False  NaN  Southampton   yes   True  \n",
            "3  woman       False    C  Southampton   yes  False  \n",
            "4    man        True  NaN  Southampton    no   True  \n"
          ]
        }
      ],
      "source": [
        "titanic = sns.load_dataset(\"titanic\")\n",
        "df = titanic.copy()\n",
        "\n",
        "print(\"Data Loaded\",df.shape)\n",
        "print(df.head())"
      ]
    },
    {
      "cell_type": "code",
      "execution_count": null,
      "metadata": {
        "colab": {
          "background_save": true,
          "base_uri": "https://localhost:8080/"
        },
        "id": "XPqQowYREy05",
        "outputId": "e9e68d19-dff3-4de2-af5f-9b93c560a438"
      },
      "outputs": [
        {
          "name": "stdout",
          "output_type": "stream",
          "text": [
            "<class 'pandas.core.frame.DataFrame'>\n",
            "RangeIndex: 891 entries, 0 to 890\n",
            "Data columns (total 15 columns):\n",
            " #   Column       Non-Null Count  Dtype   \n",
            "---  ------       --------------  -----   \n",
            " 0   survived     891 non-null    int64   \n",
            " 1   pclass       891 non-null    int64   \n",
            " 2   sex          891 non-null    object  \n",
            " 3   age          714 non-null    float64 \n",
            " 4   sibsp        891 non-null    int64   \n",
            " 5   parch        891 non-null    int64   \n",
            " 6   fare         891 non-null    float64 \n",
            " 7   embarked     889 non-null    object  \n",
            " 8   class        891 non-null    category\n",
            " 9   who          891 non-null    object  \n",
            " 10  adult_male   891 non-null    bool    \n",
            " 11  deck         203 non-null    category\n",
            " 12  embark_town  889 non-null    object  \n",
            " 13  alive        891 non-null    object  \n",
            " 14  alone        891 non-null    bool    \n",
            "dtypes: bool(2), category(2), float64(2), int64(4), object(5)\n",
            "memory usage: 80.7+ KB\n",
            "None\n"
          ]
        }
      ],
      "source": [
        "print(df.info())"
      ]
    },
    {
      "cell_type": "code",
      "source": [
        "print(df.isnull().sum())"
      ],
      "metadata": {
        "colab": {
          "base_uri": "https://localhost:8080/"
        },
        "id": "x2QC_jMaFKxB",
        "outputId": "bd14ff4c-b452-4a06-c553-c1eb65b75a9c"
      },
      "execution_count": 9,
      "outputs": [
        {
          "output_type": "stream",
          "name": "stdout",
          "text": [
            "survived         0\n",
            "pclass           0\n",
            "sex              0\n",
            "age            177\n",
            "sibsp            0\n",
            "parch            0\n",
            "fare             0\n",
            "embarked         2\n",
            "class            0\n",
            "who              0\n",
            "adult_male       0\n",
            "deck           688\n",
            "embark_town      2\n",
            "alive            0\n",
            "alone            0\n",
            "dtype: int64\n"
          ]
        }
      ]
    },
    {
      "cell_type": "code",
      "source": [
        "print(df.describe(include=\"all\").T)"
      ],
      "metadata": {
        "colab": {
          "base_uri": "https://localhost:8080/"
        },
        "id": "mxqDW6tCFtU1",
        "outputId": "877bc787-1644-4da6-d33c-e02fb4569a89"
      },
      "execution_count": 10,
      "outputs": [
        {
          "output_type": "stream",
          "name": "stdout",
          "text": [
            "             count unique          top freq       mean        std   min  \\\n",
            "survived     891.0    NaN          NaN  NaN   0.383838   0.486592   0.0   \n",
            "pclass       891.0    NaN          NaN  NaN   2.308642   0.836071   1.0   \n",
            "sex            891      2         male  577        NaN        NaN   NaN   \n",
            "age          714.0    NaN          NaN  NaN  29.699118  14.526497  0.42   \n",
            "sibsp        891.0    NaN          NaN  NaN   0.523008   1.102743   0.0   \n",
            "parch        891.0    NaN          NaN  NaN   0.381594   0.806057   0.0   \n",
            "fare         891.0    NaN          NaN  NaN  32.204208  49.693429   0.0   \n",
            "embarked       889      3            S  644        NaN        NaN   NaN   \n",
            "class          891      3        Third  491        NaN        NaN   NaN   \n",
            "who            891      3          man  537        NaN        NaN   NaN   \n",
            "adult_male     891      2         True  537        NaN        NaN   NaN   \n",
            "deck           203      7            C   59        NaN        NaN   NaN   \n",
            "embark_town    889      3  Southampton  644        NaN        NaN   NaN   \n",
            "alive          891      2           no  549        NaN        NaN   NaN   \n",
            "alone          891      2         True  537        NaN        NaN   NaN   \n",
            "\n",
            "                25%      50%   75%       max  \n",
            "survived        0.0      0.0   1.0       1.0  \n",
            "pclass          2.0      3.0   3.0       3.0  \n",
            "sex             NaN      NaN   NaN       NaN  \n",
            "age          20.125     28.0  38.0      80.0  \n",
            "sibsp           0.0      0.0   1.0       8.0  \n",
            "parch           0.0      0.0   0.0       6.0  \n",
            "fare         7.9104  14.4542  31.0  512.3292  \n",
            "embarked        NaN      NaN   NaN       NaN  \n",
            "class           NaN      NaN   NaN       NaN  \n",
            "who             NaN      NaN   NaN       NaN  \n",
            "adult_male      NaN      NaN   NaN       NaN  \n",
            "deck            NaN      NaN   NaN       NaN  \n",
            "embark_town     NaN      NaN   NaN       NaN  \n",
            "alive           NaN      NaN   NaN       NaN  \n",
            "alone           NaN      NaN   NaN       NaN  \n"
          ]
        }
      ]
    },
    {
      "cell_type": "code",
      "source": [
        "sns.countplot(data=df,x=\"survived\")\n",
        "plt.title(\"survivel count\")\n",
        "plt.show()"
      ],
      "metadata": {
        "colab": {
          "base_uri": "https://localhost:8080/",
          "height": 472
        },
        "id": "0vdxYnvnHAua",
        "outputId": "03e74dcd-f752-4b6d-b5ab-3b94659d2942"
      },
      "execution_count": 11,
      "outputs": [
        {
          "output_type": "display_data",
          "data": {
            "text/plain": [
              "<Figure size 640x480 with 1 Axes>"
            ],
            "image/png": "[encoded data removed]"
          },
          "metadata": {}
        }
      ]
    },
    {
      "cell_type": "code",
      "source": [
        "sns.countplot(data=df,x=\"sex\",hue=\"survived\")\n",
        "plt.title(\"survivel by sex\")\n",
        "plt.show()"
      ],
      "metadata": {
        "colab": {
          "base_uri": "https://localhost:8080/",
          "height": 472
        },
        "id": "Yz2tdNfkHn-f",
        "outputId": "90b1cbf4-07ab-4245-f98c-f7199ea17d33"
      },
      "execution_count": 12,
      "outputs": [
        {
          "output_type": "display_data",
          "data": {
            "text/plain": [
              "<Figure size 640x480 with 1 Axes>"
            ],
            "image/png": "[encoded data removed]"
          },
          "metadata": {}
        }
      ]
    },
    {
      "cell_type": "code",
      "source": [
        "sns.countplot(data=df,x=\"pclass\",hue=\"survived\")\n",
        "plt.title(\"survivel by class\")\n",
        "plt.show()"
      ],
      "metadata": {
        "colab": {
          "base_uri": "https://localhost:8080/",
          "height": 472
        },
        "id": "f0XNr2BxIcDP",
        "outputId": "e4f90c8c-5e2c-4754-abde-db7e242cfccf"
      },
      "execution_count": 13,
      "outputs": [
        {
          "output_type": "display_data",
          "data": {
            "text/plain": [
              "<Figure size 640x480 with 1 Axes>"
            ],
            "image/png": "[encoded data removed]"
          },
          "metadata": {}
        }
      ]
    },
    {
      "cell_type": "code",
      "source": [
        "col = [\"survived\",\"pclass\",\"sex\",\"age\",\"sibsp\",\"parch\",\"fare\",\"embarked\"]\n",
        "df = df[col]\n",
        "print(df.head())"
      ],
      "metadata": {
        "colab": {
          "base_uri": "https://localhost:8080/"
        },
        "id": "J-VtpTMeJDmA",
        "outputId": "0fbb6993-4681-4fff-f519-e418f5dc3610"
      },
      "execution_count": 16,
      "outputs": [
        {
          "output_type": "stream",
          "name": "stdout",
          "text": [
            "   survived  pclass     sex   age  sibsp  parch     fare embarked\n",
            "0         0       3    male  22.0      1      0   7.2500        S\n",
            "1         1       1  female  38.0      1      0  71.2833        C\n",
            "2         1       3  female  26.0      0      0   7.9250        S\n",
            "3         1       1  female  35.0      1      0  53.1000        S\n",
            "4         0       3    male  35.0      0      0   8.0500        S\n"
          ]
        }
      ]
    },
    {
      "cell_type": "code",
      "source": [
        "df = df.dropna(subset=[\"sex\",\"embarked\"])\n",
        "df[\"age\"] = df[\"age\"].fillna(df[\"age\"].median())\n",
        "\n",
        "le = LabelEncoder()\n",
        "df[\"sex\"] = le.fit_transform(df[\"sex\"])\n",
        "df[\"embarked\"] = le.fit_transform(df[\"embarked\"])\n",
        "\n",
        "print(\"\\nClean Data Shap\",df.shape)"
      ],
      "metadata": {
        "colab": {
          "base_uri": "https://localhost:8080/"
        },
        "id": "BA7ceETDKF9l",
        "outputId": "412683e8-8230-4c12-c403-06be217e4fb2"
      },
      "execution_count": 25,
      "outputs": [
        {
          "output_type": "stream",
          "name": "stdout",
          "text": [
            "\n",
            "Clean Data Shap (889, 8)\n"
          ]
        }
      ]
    },
    {
      "cell_type": "code",
      "source": [
        "x = df.drop(\"survived\",axis=1)\n",
        "y = df[\"survived\"]\n",
        "\n",
        "x_train,x_test,y_train,y_test = train_test_split(x,y,test_size=0.2,random_state=42,stratify=y)\n",
        "print(x_train.shape,x_test.shape)"
      ],
      "metadata": {
        "colab": {
          "base_uri": "https://localhost:8080/"
        },
        "id": "fgXKlLsuQscB",
        "outputId": "9345dad6-1a21-414c-fb69-b74756fb7ccd"
      },
      "execution_count": 29,
      "outputs": [
        {
          "output_type": "stream",
          "name": "stdout",
          "text": [
            "(711, 7) (178, 7)\n"
          ]
        }
      ]
    },
    {
      "cell_type": "code",
      "source": [
        "models = {\n",
        "    \"LinearRegression\" : LogisticRegression(max_iter=500),\n",
        "    \"RandomForest\" : RandomForestClassifier(n_estimators=200,random_state=42),\n",
        "    \"SVC-RBF\" : SVC(kernel=\"rbf\",probability=True,random_state=42),\n",
        "}"
      ],
      "metadata": {
        "id": "Slo4oXlQToSM"
      },
      "execution_count": 32,
      "outputs": []
    },
    {
      "cell_type": "code",
      "source": [
        "result = {}\n",
        "fitted_model = {}\n",
        "\n",
        "for name,model in models.items():\n",
        "  model.fit(x_train,y_train)\n",
        "  pred = model.predict(x_test)\n",
        "  acc = accuracy_score(y_test,pred)\n",
        "  result[name] = acc\n",
        "  fitted_model[name] = model\n",
        "  print(f\"====={name}=====\")\n",
        "  print(f\"Accuracy : \",round(acc,4))\n",
        "  print(f\"Classification Report : \\n\",classification_report(y_test,pred))"
      ],
      "metadata": {
        "colab": {
          "base_uri": "https://localhost:8080/"
        },
        "id": "tjblhquiU1Ea",
        "outputId": "aaa3776a-da2f-4d9c-89ae-5b361fe67890"
      },
      "execution_count": 33,
      "outputs": [
        {
          "output_type": "stream",
          "name": "stdout",
          "text": [
            "=====LinearRegression=====\n",
            "Accuracy :  0.809\n",
            "Classification Report : \n",
            "               precision    recall  f1-score   support\n",
            "\n",
            "           0       0.82      0.88      0.85       110\n",
            "           1       0.78      0.69      0.73        68\n",
            "\n",
            "    accuracy                           0.81       178\n",
            "   macro avg       0.80      0.79      0.79       178\n",
            "weighted avg       0.81      0.81      0.81       178\n",
            "\n",
            "=====RandomForest=====\n",
            "Accuracy :  0.8146\n",
            "Classification Report : \n",
            "               precision    recall  f1-score   support\n",
            "\n",
            "           0       0.84      0.86      0.85       110\n",
            "           1       0.77      0.74      0.75        68\n",
            "\n",
            "    accuracy                           0.81       178\n",
            "   macro avg       0.80      0.80      0.80       178\n",
            "weighted avg       0.81      0.81      0.81       178\n",
            "\n",
            "=====SVC-RBF=====\n",
            "Accuracy :  0.6629\n",
            "Classification Report : \n",
            "               precision    recall  f1-score   support\n",
            "\n",
            "           0       0.67      0.88      0.76       110\n",
            "           1       0.62      0.31      0.41        68\n",
            "\n",
            "    accuracy                           0.66       178\n",
            "   macro avg       0.65      0.60      0.59       178\n",
            "weighted avg       0.65      0.66      0.63       178\n",
            "\n"
          ]
        }
      ]
    },
    {
      "cell_type": "code",
      "source": [
        "best_name = max(result,key=result.get)\n",
        "best_acc = result[best_name]\n",
        "best_model = fitted_model[best_name]\n",
        "\n",
        "print(\"\\n==================\")\n",
        "print(\"Best Model : \",best_model)\n",
        "print(\"Best Accuracy : \",best_acc)\n",
        "print(\"\\n==================\")"
      ],
      "metadata": {
        "colab": {
          "base_uri": "https://localhost:8080/"
        },
        "id": "T7TPaVk0dj8o",
        "outputId": "d764c939-e307-40c8-dbb4-d1912defc642"
      },
      "execution_count": 35,
      "outputs": [
        {
          "output_type": "stream",
          "name": "stdout",
          "text": [
            "\n",
            "==================\n",
            "Best Model :  RandomForestClassifier(n_estimators=200, random_state=42)\n",
            "Best Accuracy :  0.8146067415730337\n",
            "\n",
            "==================\n"
          ]
        }
      ]
    },
    {
      "cell_type": "code",
      "source": [
        "best_pred = best_model.predict(x_test)\n",
        "cm = confusion_matrix(y_test,best_pred)\n",
        "\n",
        "plt.figure(figsize=(5,4))\n",
        "sns.heatmap(cm,annot=True,fmt=\"d\",cmap=\"Blues\",xticklabels=[\"Died\",\"Survived\"],yticklabels=[\"Died\",\"Survived\"])\n",
        "plt.xlabel(\"Predict\")\n",
        "plt.ylabel(\"True\")\n",
        "plt.tight_layout()\n",
        "plt.show()"
      ],
      "metadata": {
        "colab": {
          "base_uri": "https://localhost:8080/",
          "height": 407
        },
        "id": "JdKGEMbHfUUh",
        "outputId": "f7e5c1fc-9540-4dd6-b652-f07b3cfa6f8b"
      },
      "execution_count": 39,
      "outputs": [
        {
          "output_type": "display_data",
          "data": {
            "text/plain": [
              "<Figure size 500x400 with 2 Axes>"
            ],
            "image/png": "[encoded data removed]"
          },
          "metadata": {}
        }
      ]
    },
    {
      "cell_type": "code",
      "source": [
        "joblib.dump(best_model,\"Titanic_best_model.joblib\")\n",
        "print(\"Save Best Model\")"
      ],
      "metadata": {
        "colab": {
          "base_uri": "https://localhost:8080/"
        },
        "id": "KBEUsk8Hh5nv",
        "outputId": "8d05f280-39db-492b-ba68-5450d15068d2"
      },
      "execution_count": 40,
      "outputs": [
        {
          "output_type": "stream",
          "name": "stdout",
          "text": [
            "Save Best Model\n"
          ]
        }
      ]
    },
    {
      "cell_type": "code",
      "source": [
        "sample = np.array([[3,1,22,1,0,7.25,2]])\n",
        "pred = best_model.predict(sample)[0]\n",
        "print(\"\\n Prediction for sample passenger:\", \"Survived\" if pred==1 else \"Died\")"
      ],
      "metadata": {
        "colab": {
          "base_uri": "https://localhost:8080/"
        },
        "id": "bl-_FbVBiStV",
        "outputId": "a4563f54-5931-4092-b1c6-0453b588a634"
      },
      "execution_count": 44,
      "outputs": [
        {
          "output_type": "stream",
          "name": "stdout",
          "text": [
            "\n",
            " Prediction for sample passenger: Died\n"
          ]
        }
      ]
    }
  ],
  "metadata": {
    "colab": {
      "provenance": []
    },
    "kernelspec": {
      "display_name": "Python 3",
      "name": "python3"
    },
    "language_info": {
      "name": "python"
    }
  },
  "nbformat": 4,
  "nbformat_minor": 0
}