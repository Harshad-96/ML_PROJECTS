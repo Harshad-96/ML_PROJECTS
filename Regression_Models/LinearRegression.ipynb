{
  "nbformat": 4,
  "nbformat_minor": 0,
  "metadata": {
    "colab": {
      "provenance": []
    },
    "kernelspec": {
      "name": "python3",
      "display_name": "Python 3"
    },
    "language_info": {
      "name": "python"
    }
  },
  "cells": [
    {
      "cell_type": "code",
      "execution_count": null,
      "metadata": {
        "id": "2G5OSEyozIC7"
      },
      "outputs": [],
      "source": [
        "import numpy as np"
      ]
    },
    {
      "cell_type": "code",
      "source": [
        "class LinearRegression :\n",
        "  def __init__(self,lr = 0.001,n_iterns = 1000):\n",
        "    self.lr = lr\n",
        "    self.n_iterns = n_iterns\n",
        "    self.weight = weight\n",
        "    self.bias = bias\n",
        "\n",
        "  def fit(self,x,y):\n",
        "    n_samples,n_features = x.shape\n",
        "    self.weight = np.zeros(n_features)\n",
        "    self.bias = 0\n",
        "\n",
        "    for _ in range(self.n_iterns):\n",
        "\n",
        "      y_pred = np.dot(x,self.weiht) + self.bias\n",
        "\n",
        "      dw = (1/n_samples) * np.dot(x.T,(y_pred - y))\n",
        "      db = (1/n_samples) * np.sum(y_pred - y)\n",
        "\n",
        "      self.weight = self.weight - self.lr * dw\n",
        "      self.bias = self.bias - self.lr * db\n",
        "\n",
        "    def predict(self,x):\n",
        "      y_pred = np.dot(x,self.weight) + self.bias\n",
        "      return y_pred"
      ],
      "metadata": {
        "id": "RpsnhDkZzL7l"
      },
      "execution_count": null,
      "outputs": []
    }
  ]
}